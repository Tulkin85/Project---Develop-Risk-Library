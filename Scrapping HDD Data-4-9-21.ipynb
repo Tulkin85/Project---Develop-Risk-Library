{
 "cells": [
  {
   "cell_type": "code",
   "execution_count": 2,
   "metadata": {},
   "outputs": [],
   "source": [
    "import pandas as pd\n",
    "import requests"
   ]
  },
  {
   "cell_type": "code",
   "execution_count": 3,
   "metadata": {},
   "outputs": [],
   "source": [
    "url = 'https://www.cpc.ncep.noaa.gov/products/analysis_monitoring/cdus/degree_days/msahddy.txt'\n",
    "data = requests.get(url)#.json()"
   ]
  },
  {
   "cell_type": "code",
   "execution_count": 4,
   "metadata": {},
   "outputs": [],
   "source": [
    "l = []\n",
    "for line in data.iter_lines():\n",
    "    s = line.decode('UTF-8')\n",
    "    l.append(s)\n",
    "list_of_interest = l[106:]\n",
    "list_of_interest\n",
    "\n",
    "\n",
    "my_list = []\n",
    "for a in range(0, len(list_of_interest)):\n",
    "    for x in list_of_interest[a].strip().split(' '):\n",
    "        #print(x)\n",
    "        if len(x) != 0:\n",
    "                my_list.append(x)\n",
    "                \n",
    "num_list = []\n",
    "word_list = []\n",
    "for i in my_list:\n",
    "    if i[-1] in '1234567890':\n",
    "        num_list.append(i)\n",
    "    else:\n",
    "        word_list.append(i)"
   ]
  },
  {
   "cell_type": "code",
   "execution_count": 5,
   "metadata": {},
   "outputs": [
    {
     "data": {
      "text/plain": [
       "[['807', '-86', '62', '4962', '-578', '-8', '-10', '0'],\n",
       " ['713', '-109', '66', '4593', '-560', '107', '-11', '2'],\n",
       " ['662', '-176', '-31', '5133', '-434', '214', '-8', '4'],\n",
       " ['638', '-184', '-58', '5472', '-312', '70', '-5', '1'],\n",
       " ['229', '-61', '48', '1792', '-275', '200', '-13', '12'],\n",
       " ['326', '-128', '43', '3006', '-313', '287', '-9', '11'],\n",
       " ['186', '-63', '65', '1969', '-115', '249', '-6', '14'],\n",
       " ['538', '45', '28', '3392', '-120', '23', '-3', '1'],\n",
       " ['557', '84', '-10', '3028', '-113', '-46', '-4', '-2'],\n",
       " ['382', '-58', '32', '2820', '-256', '158', '-8', '6']]"
      ]
     },
     "execution_count": 5,
     "metadata": {},
     "output_type": "execute_result"
    }
   ],
   "source": [
    "keys = ['New England', 'Mid Atlantic', 'E N Central', 'W N Central', 'S Atlantic', 'E S Central', 'W S Central', 'Mountain', 'Paficic', 'US']\n",
    "\n",
    "l = []\n",
    "for i in range(0,len(num_list),8):\n",
    "    l.append(num_list[i:i+8])\n",
    "    \n",
    "l"
   ]
  },
  {
   "cell_type": "code",
   "execution_count": 6,
   "metadata": {},
   "outputs": [
    {
     "name": "stderr",
     "output_type": "stream",
     "text": [
      "C:\\ProgramData\\Anaconda3\\lib\\site-packages\\ipykernel_launcher.py:5: SettingWithCopyWarning: \n",
      "A value is trying to be set on a copy of a slice from a DataFrame.\n",
      "Try using .loc[row_indexer,col_indexer] = value instead\n",
      "\n",
      "See the caveats in the documentation: http://pandas.pydata.org/pandas-docs/stable/indexing.html#indexing-view-versus-copy\n",
      "  \"\"\"\n",
      "C:\\ProgramData\\Anaconda3\\lib\\site-packages\\ipykernel_launcher.py:6: SettingWithCopyWarning: \n",
      "A value is trying to be set on a copy of a slice from a DataFrame.\n",
      "Try using .loc[row_indexer,col_indexer] = value instead\n",
      "\n",
      "See the caveats in the documentation: http://pandas.pydata.org/pandas-docs/stable/indexing.html#indexing-view-versus-copy\n",
      "  \n"
     ]
    }
   ],
   "source": [
    "df = pd.DataFrame(data = l, index=keys)\n",
    "df_final = df[[0,1,2]]\n",
    "df_final.columns = ['Data', 'vs Normal', 'vs Last Year']\n",
    "\n",
    "df_final['Normal'] = df_final['Data'].astype('int')-df_final['vs Normal'].astype('int')\n",
    "df_final['Last Year'] = df_final['Data'].astype('int')-df_final['vs Last Year'].astype('int')\n",
    "\n",
    "df_final_1 = df_final[['Data', 'Normal', 'Last Year']]\n",
    "#df_final_1.to_csv('hdd.csv')\n"
   ]
  },
  {
   "cell_type": "code",
   "execution_count": 7,
   "metadata": {},
   "outputs": [
    {
     "data": {
      "text/html": [
       "<div>\n",
       "<style scoped>\n",
       "    .dataframe tbody tr th:only-of-type {\n",
       "        vertical-align: middle;\n",
       "    }\n",
       "\n",
       "    .dataframe tbody tr th {\n",
       "        vertical-align: top;\n",
       "    }\n",
       "\n",
       "    .dataframe thead th {\n",
       "        text-align: right;\n",
       "    }\n",
       "</style>\n",
       "<table border=\"1\" class=\"dataframe\">\n",
       "  <thead>\n",
       "    <tr style=\"text-align: right;\">\n",
       "      <th></th>\n",
       "      <th>Data</th>\n",
       "      <th>Normal</th>\n",
       "      <th>Last Year</th>\n",
       "    </tr>\n",
       "  </thead>\n",
       "  <tbody>\n",
       "    <tr>\n",
       "      <th>New England</th>\n",
       "      <td>807</td>\n",
       "      <td>893</td>\n",
       "      <td>745</td>\n",
       "    </tr>\n",
       "    <tr>\n",
       "      <th>Mid Atlantic</th>\n",
       "      <td>713</td>\n",
       "      <td>822</td>\n",
       "      <td>647</td>\n",
       "    </tr>\n",
       "    <tr>\n",
       "      <th>E N Central</th>\n",
       "      <td>662</td>\n",
       "      <td>838</td>\n",
       "      <td>693</td>\n",
       "    </tr>\n",
       "    <tr>\n",
       "      <th>W N Central</th>\n",
       "      <td>638</td>\n",
       "      <td>822</td>\n",
       "      <td>696</td>\n",
       "    </tr>\n",
       "    <tr>\n",
       "      <th>S Atlantic</th>\n",
       "      <td>229</td>\n",
       "      <td>290</td>\n",
       "      <td>181</td>\n",
       "    </tr>\n",
       "    <tr>\n",
       "      <th>E S Central</th>\n",
       "      <td>326</td>\n",
       "      <td>454</td>\n",
       "      <td>283</td>\n",
       "    </tr>\n",
       "    <tr>\n",
       "      <th>W S Central</th>\n",
       "      <td>186</td>\n",
       "      <td>249</td>\n",
       "      <td>121</td>\n",
       "    </tr>\n",
       "    <tr>\n",
       "      <th>Mountain</th>\n",
       "      <td>538</td>\n",
       "      <td>493</td>\n",
       "      <td>510</td>\n",
       "    </tr>\n",
       "    <tr>\n",
       "      <th>Paficic</th>\n",
       "      <td>557</td>\n",
       "      <td>473</td>\n",
       "      <td>567</td>\n",
       "    </tr>\n",
       "    <tr>\n",
       "      <th>US</th>\n",
       "      <td>382</td>\n",
       "      <td>440</td>\n",
       "      <td>350</td>\n",
       "    </tr>\n",
       "  </tbody>\n",
       "</table>\n",
       "</div>"
      ],
      "text/plain": [
       "             Data  Normal  Last Year\n",
       "New England   807     893        745\n",
       "Mid Atlantic  713     822        647\n",
       "E N Central   662     838        693\n",
       "W N Central   638     822        696\n",
       "S Atlantic    229     290        181\n",
       "E S Central   326     454        283\n",
       "W S Central   186     249        121\n",
       "Mountain      538     493        510\n",
       "Paficic       557     473        567\n",
       "US            382     440        350"
      ]
     },
     "execution_count": 7,
     "metadata": {},
     "output_type": "execute_result"
    }
   ],
   "source": [
    "df_final_1"
   ]
  },
  {
   "cell_type": "code",
   "execution_count": null,
   "metadata": {},
   "outputs": [],
   "source": []
  }
 ],
 "metadata": {
  "kernelspec": {
   "display_name": "Python 3",
   "language": "python",
   "name": "python3"
  },
  "language_info": {
   "codemirror_mode": {
    "name": "ipython",
    "version": 3
   },
   "file_extension": ".py",
   "mimetype": "text/x-python",
   "name": "python",
   "nbconvert_exporter": "python",
   "pygments_lexer": "ipython3",
   "version": "3.7.1"
  }
 },
 "nbformat": 4,
 "nbformat_minor": 2
}
